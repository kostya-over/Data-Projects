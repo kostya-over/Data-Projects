{
 "cells": [
  {
   "cell_type": "code",
   "execution_count": 46,
   "metadata": {},
   "outputs": [],
   "source": [
    "import pandas as pd\n",
    "import psycopg2\n",
    "from sqlalchemy import create_engine\n",
    "import os\n",
    "import numpy as np\n",
    "from psycopg2 import sql"
   ]
  },
  {
   "cell_type": "markdown",
   "metadata": {},
   "source": [
    "### Опис \n",
    "СУБД: PostgreSQL 16\n",
    "\n",
    "Сервер: BM\n",
    "\n",
    "БД: postgres\n",
    "\n",
    "Скрипт підключається до БД, створює таблицю bm_subsriptions, проходиться по файлам у папці та додає до таблиці."
   ]
  },
  {
   "cell_type": "code",
   "execution_count": 27,
   "metadata": {},
   "outputs": [],
   "source": [
    "conn = psycopg2.connect(database = \"postgres\", \n",
    "                        user = \"postgres\", \n",
    "                        host= 'localhost',\n",
    "                        password = \"2100\",\n",
    "                        port = 5432)\n"
   ]
  },
  {
   "cell_type": "code",
   "execution_count": 28,
   "metadata": {},
   "outputs": [],
   "source": [
    "cur = conn.cursor()"
   ]
  },
  {
   "cell_type": "code",
   "execution_count": 26,
   "metadata": {},
   "outputs": [],
   "source": [
    "cur.execute(\"\"\"CREATE TABLE bm_subscriptions (\n",
    "                event_date DATE,\n",
    "                app_name VARCHAR(255),\n",
    "                app_apple_id BIGINT,\n",
    "                subscription_name VARCHAR(255),\n",
    "                subscription_apple_id BIGINT,\n",
    "                subscription_group_id BIGINT,\n",
    "                subscription_duration VARCHAR(50),\n",
    "                introductory_price_type VARCHAR(50),\n",
    "                introductory_price_duration VARCHAR(50),\n",
    "                marketing_opt_in_duration VARCHAR(50),\n",
    "                customer_price DECIMAL(10, 2),\n",
    "                customer_currency VARCHAR(10),\n",
    "                developer_proceeds DECIMAL(10, 2),\n",
    "                proceeds_currency VARCHAR(10),\n",
    "                preserved_pricing BOOLEAN,\n",
    "                proceeds_reason TEXT,\n",
    "                client VARCHAR(50),\n",
    "                device VARCHAR(50),\n",
    "                country VARCHAR(10),\n",
    "                subscriber_id BIGINT,\n",
    "                subscriber_id_reset BOOLEAN,\n",
    "                refund BOOLEAN,\n",
    "                purchase_date DATE,\n",
    "                units INTEGER);\"\"\")\n",
    "\n",
    "conn.commit()"
   ]
  },
  {
   "cell_type": "code",
   "execution_count": 48,
   "metadata": {},
   "outputs": [],
   "source": [
    "def clean_boolean(value):\n",
    "    if pd.isna(value) or value == '' or value == ' ':\n",
    "        return None\n",
    "    return bool(value)\n",
    "\n",
    "def clean_date(value):\n",
    "    if pd.isna(value) or value == '' or value == ' ':\n",
    "        return None\n",
    "    try:\n",
    "        return pd.to_datetime(value).date()\n",
    "    except:\n",
    "        return None\n",
    "\n",
    "def clean_float(value):\n",
    "    if pd.isna(value) or value == '' or value == ' ':\n",
    "        return None\n",
    "    try:\n",
    "        return float(value)\n",
    "    except:\n",
    "        return None\n",
    "\n",
    "def clean_int(value):\n",
    "    if pd.isna(value) or value == '' or value == ' ':\n",
    "        return None\n",
    "    try:\n",
    "        return int(value)\n",
    "    except:\n",
    "        return None"
   ]
  },
  {
   "cell_type": "code",
   "execution_count": 38,
   "metadata": {},
   "outputs": [],
   "source": [
    "folder_path = \"/Users/kostas/Documents/Tableau/BM_test_task/bm_files\""
   ]
  },
  {
   "cell_type": "code",
   "execution_count": 49,
   "metadata": {},
   "outputs": [
    {
     "name": "stdout",
     "output_type": "stream",
     "text": [
      "Successfully processed file: 20190205.txt\n",
      "Successfully processed file: 20190204.txt\n",
      "Successfully processed file: 20190210.txt\n",
      "Successfully processed file: 20190206.txt\n",
      "Successfully processed file: 20190207.txt\n",
      "Successfully processed file: 20190203.txt\n",
      "Successfully processed file: 20190202.txt\n",
      "Successfully processed file: 20190201.txt\n",
      "Successfully processed file: 20190209.txt\n",
      "Successfully processed file: 20190208.txt\n"
     ]
    }
   ],
   "source": [
    "for filename in os.listdir(folder_path):\n",
    "    if filename.endswith(\".txt\"):\n",
    "        file_path = os.path.join(folder_path, filename)\n",
    "        \n",
    "        try:\n",
    "            df = pd.read_csv(file_path, delimiter=\"\\t\")\n",
    "            \n",
    "            date_fields = ['Event Date', 'Purchase Date']\n",
    "            boolean_fields = ['Preserved Pricing', 'Subscriber ID Reset', 'Refund']\n",
    "            float_fields = ['Customer Price', 'Developer Proceeds']\n",
    "            int_fields = ['App Apple ID', 'Subscription Apple ID', 'Subscription Group ID', 'Units']\n",
    "\n",
    "            for field in date_fields:\n",
    "                if field in df.columns:\n",
    "                    df[field] = df[field].apply(clean_date)\n",
    "            \n",
    "            for field in boolean_fields:\n",
    "                if field in df.columns:\n",
    "                    df[field] = df[field].apply(clean_boolean)\n",
    "            \n",
    "            for field in float_fields:\n",
    "                if field in df.columns:\n",
    "                    df[field] = df[field].apply(clean_float)\n",
    "            \n",
    "            for field in int_fields:\n",
    "                if field in df.columns:\n",
    "                    df[field] = df[field].apply(clean_int)\n",
    "\n",
    "            for index, row in df.iterrows():\n",
    "                cur.execute(sql.SQL(\"\"\"\n",
    "                    INSERT INTO bm_subscriptions (\n",
    "                        event_date, app_name, app_apple_id, subscription_name, \n",
    "                        subscription_apple_id, subscription_group_id, subscription_duration, \n",
    "                        introductory_price_type, introductory_price_duration, marketing_opt_in_duration, \n",
    "                        customer_price, customer_currency, developer_proceeds, proceeds_currency, \n",
    "                        preserved_pricing, proceeds_reason, client, device, country, \n",
    "                        subscriber_id, subscriber_id_reset, refund, purchase_date, units\n",
    "                    ) VALUES ({})\n",
    "                \"\"\").format(sql.SQL(', ').join([sql.Placeholder()] * 24)), (\n",
    "                    row['Event Date'], row['App Name'], row['App Apple ID'], row['Subscription Name'], \n",
    "                    row['Subscription Apple ID'], row['Subscription Group ID'], row['Subscription Duration'], \n",
    "                    row['Introductory Price Type'], row['Introductory Price Duration'], row['Marketing Opt-In Duration'], \n",
    "                    row['Customer Price'], row['Customer Currency'], row['Developer Proceeds'], row['Proceeds Currency'], \n",
    "                    row['Preserved Pricing'], row['Proceeds Reason'], row['Client'], row['Device'], row['Country'], \n",
    "                    row['Subscriber ID'], row['Subscriber ID Reset'], row['Refund'], row['Purchase Date'], row['Units']\n",
    "                ))\n",
    "            \n",
    "            conn.commit()\n",
    "            print(f\"Successfully processed file: {filename}\")\n",
    "        \n",
    "        except Exception as e:\n",
    "            print(f\"Error occurred for file {filename}: {e}\")\n",
    "            conn.rollback()"
   ]
  },
  {
   "cell_type": "code",
   "execution_count": 50,
   "metadata": {},
   "outputs": [],
   "source": [
    "cur.close()\n",
    "conn.close()"
   ]
  }
 ],
 "metadata": {
  "kernelspec": {
   "display_name": "Scripts_reports",
   "language": "python",
   "name": "python3"
  },
  "language_info": {
   "codemirror_mode": {
    "name": "ipython",
    "version": 3
   },
   "file_extension": ".py",
   "mimetype": "text/x-python",
   "name": "python",
   "nbconvert_exporter": "python",
   "pygments_lexer": "ipython3",
   "version": "3.9.6"
  }
 },
 "nbformat": 4,
 "nbformat_minor": 2
}
